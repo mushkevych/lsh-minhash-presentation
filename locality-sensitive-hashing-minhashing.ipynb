{
 "cells": [
  {
   "cell_type": "code",
   "execution_count": 1,
   "metadata": {},
   "outputs": [],
   "source": [
    "import pandas as pd"
   ]
  },
  {
   "cell_type": "markdown",
   "metadata": {},
   "source": [
    "## Overview"
   ]
  },
  {
   "cell_type": "markdown",
   "metadata": {},
   "source": [
    "Task of finding nearest neighbours is very common. You can think of applications like finding duplicate or similar documents, audio/video search. Although using brute force to check for all possible combinations will find the exact nearest neighbour, but it is hardly scalable. Approximate algorithms accomplishing this task has been an area of active research. Locality sensitive hashing *LSH* is one such algorithms' family.\n",
    "\n",
    "*LSH* refers to a family of functions to hash data points into buckets so that data points near each other are located in the same buckets with high probability, while data points far from each other are likely to be in different buckets.\n",
    "\n",
    "![image info](./static/lsh-overview.png)"
   ]
  },
  {
   "cell_type": "markdown",
   "metadata": {},
   "source": [
    "Real-world applications:\n",
    "* Near-duplicate detection: *LSH* is commonly used to deduplicate large quantities of documents, webpages, and other files.\n",
    "* Genome-wide association study: identify similar gene expressions in genome databases.\n",
    "* Large-scale image search: Google used *LSH* along with PageRank to build image search technology VisualRank.\n",
    "* Audio/video fingerprinting: In multimedia technologies, *LSH* is widely used as a fingerprinting technique A/V data."
   ]
  },
  {
   "cell_type": "markdown",
   "metadata": {},
   "source": [
    "This presentation will describe *LSH* class in general and *MinHashing* in particular"
   ]
  },
  {
   "cell_type": "markdown",
   "metadata": {},
   "source": [
    "## Jaccard Similarity (also Jaccard Index)"
   ]
  },
  {
   "cell_type": "markdown",
   "metadata": {},
   "source": [
    "The *Jaccard Similarity* is an **intersection** over a **union**.\n",
    "\n",
    "Example:\n",
    "* Who was the first ruler of England\n",
    "* Who was the first king of England\n",
    "\n",
    "<img src=\"./static/venn-diagram-1.png\"  width=\"60%\" height=\"60%\">\n",
    "\n",
    "Stats:\n",
    "* size of intersection = 6\n",
    "* size of union = 8\n",
    "* **Jaccard Similarity** = 6 / 8 = 0.75"
   ]
  },
  {
   "cell_type": "markdown",
   "metadata": {},
   "source": [
    "## Scale of the problem"
   ]
  },
  {
   "cell_type": "markdown",
   "metadata": {},
   "source": [
    "First, we need to define a method of determining whether a document is a duplicate of another. We can use *string distance* metrics (Levenshtein, Jaro-Winkler, Jaccard Similarity) and compare word-by-word, document-by-document, and declare documents with number beyond a certain threshold as \"matching\".\n",
    "\n",
    "The number of comparisons required is given by the following formula, which is pronounced \"N-choose-2\"\n",
    "![N-choose-2 image](./static/n-choose-2-eq.png)\n",
    "\n",
    "Let's assume we have a collection of 1 million documents, and that on average, a computer can calculate the *Jaccard Similarity* between two documents in *1ms*. (i.e. converting structured documents into set of words, comparing them discarding document structure)\n",
    "\n",
    "The rough number of comparisons required:\n",
    "\n",
    "![image info](./static/1m-doc-comparisons.png)\n",
    "\n",
    "Next, the amount of time required:\n",
    "![image info](./static/1m-doc-comparisons-time.png)\n",
    "\n",
    "**16 years** of compute time! RAM served separately."
   ]
  },
  {
   "cell_type": "markdown",
   "metadata": {},
   "source": [
    "## A better way"
   ]
  },
  {
   "cell_type": "markdown",
   "metadata": {},
   "source": [
    "The *MinHash* algorithm will provide us with a fast approximation to the *Jaccard Similarity* between two documents.\n",
    "\n",
    "Input documents:\n",
    "* Who was the first ruler of England\n",
    "* Who was the first king of England\n",
    "* Who was the last pharaoh of Egypt\n",
    "\n",
    "And their *Jaccard Similarities*:\n",
    "\n",
    "```shell\n",
    "J(\"Who was the first king of England\",  \"Who was the first ruler of England\") = 0.75\n",
    "J(\"Who was the first king of England\",  \"Who was the last pharaoh of Egypt\")  = 0.4\n",
    "J(\"Who was the first ruler of England\", \"Who was the last pharaoh of Egypt\")  = 0.4\n",
    "```\n",
    "\n",
    "To calculate MinHash we need to create the dictionary (a set of all words) from all our documents. Then, create a random permutation:\n",
    "\n",
    "```python\n",
    "(\"last\", \"Who\", \"Egypt\", \"king\", \"ruler\", \"was\", \"of\", \"England\", \"pharaoh\", \"the\", \"first\")\n",
    "```\n",
    "\n",
    "and iterate over the rows, writing the index in the respective cell, if the word is present in the sentence."
   ]
  },
  {
   "cell_type": "code",
   "execution_count": 2,
   "metadata": {},
   "outputs": [
    {
     "data": {
      "text/plain": "          word Who was the first king of England  \\\nindex                                              \n1         last                                     \n2          Who                                 2   \n3        Egypt                                     \n4         king                                 4   \n5        ruler                                     \n6          was                                 6   \n7           of                                 7   \n8      England                                 8   \n9      pharaoh                                     \n10         the                                10   \n11       first                                11   \n\n      Who was the first ruler of England Who was the last pharaoh of Egypt  \nindex                                                                       \n1                                                                        1  \n2                                      2                                 2  \n3                                                                        3  \n4                                                                           \n5                                      5                                    \n6                                      6                                 6  \n7                                      7                                 7  \n8                                      8                                    \n9                                                                        9  \n10                                    10                                10  \n11                                    11                                    ",
      "text/html": "<div>\n<style scoped>\n    .dataframe tbody tr th:only-of-type {\n        vertical-align: middle;\n    }\n\n    .dataframe tbody tr th {\n        vertical-align: top;\n    }\n\n    .dataframe thead th {\n        text-align: right;\n    }\n</style>\n<table border=\"1\" class=\"dataframe\">\n  <thead>\n    <tr style=\"text-align: right;\">\n      <th></th>\n      <th>word</th>\n      <th>Who was the first king of England</th>\n      <th>Who was the first ruler of England</th>\n      <th>Who was the last pharaoh of Egypt</th>\n    </tr>\n    <tr>\n      <th>index</th>\n      <th></th>\n      <th></th>\n      <th></th>\n      <th></th>\n    </tr>\n  </thead>\n  <tbody>\n    <tr>\n      <th>1</th>\n      <td>last</td>\n      <td></td>\n      <td></td>\n      <td>1</td>\n    </tr>\n    <tr>\n      <th>2</th>\n      <td>Who</td>\n      <td>2</td>\n      <td>2</td>\n      <td>2</td>\n    </tr>\n    <tr>\n      <th>3</th>\n      <td>Egypt</td>\n      <td></td>\n      <td></td>\n      <td>3</td>\n    </tr>\n    <tr>\n      <th>4</th>\n      <td>king</td>\n      <td>4</td>\n      <td></td>\n      <td></td>\n    </tr>\n    <tr>\n      <th>5</th>\n      <td>ruler</td>\n      <td></td>\n      <td>5</td>\n      <td></td>\n    </tr>\n    <tr>\n      <th>6</th>\n      <td>was</td>\n      <td>6</td>\n      <td>6</td>\n      <td>6</td>\n    </tr>\n    <tr>\n      <th>7</th>\n      <td>of</td>\n      <td>7</td>\n      <td>7</td>\n      <td>7</td>\n    </tr>\n    <tr>\n      <th>8</th>\n      <td>England</td>\n      <td>8</td>\n      <td>8</td>\n      <td></td>\n    </tr>\n    <tr>\n      <th>9</th>\n      <td>pharaoh</td>\n      <td></td>\n      <td></td>\n      <td>9</td>\n    </tr>\n    <tr>\n      <th>10</th>\n      <td>the</td>\n      <td>10</td>\n      <td>10</td>\n      <td>10</td>\n    </tr>\n    <tr>\n      <th>11</th>\n      <td>first</td>\n      <td>11</td>\n      <td>11</td>\n      <td></td>\n    </tr>\n  </tbody>\n</table>\n</div>"
     },
     "execution_count": 2,
     "metadata": {},
     "output_type": "execute_result"
    }
   ],
   "source": [
    "pd.read_csv('./static/permutation_1.csv', header=0, dtype=str, keep_default_na=False, index_col='index')"
   ]
  },
  {
   "cell_type": "markdown",
   "metadata": {},
   "source": [
    "Only the first word occurrence is relevant (giving a minimal index — hence the name *MinHash* ). We have a minimum value for all our documents and the first part of the fingerprint: *2 2 1*. To get the second one we need to create another random permutation and retrace our steps:\n"
   ]
  },
  {
   "cell_type": "code",
   "execution_count": 3,
   "metadata": {},
   "outputs": [
    {
     "data": {
      "text/plain": "          word Who was the first king of England  \\\nindex                                              \n1          the                                 1   \n2           of                                 2   \n3      England                                 3   \n4          was                                 4   \n5        first                                 5   \n6        ruler                                     \n7          Who                                 7   \n8        Egypt                                     \n9      pharaoh                                     \n10        last                                     \n11        king                                11   \n\n      Who was the first ruler of England Who was the last pharaoh of Egypt  \nindex                                                                       \n1                                      1                                 1  \n2                                      2                                 2  \n3                                      3                                    \n4                                      4                                 4  \n5                                      5                                    \n6                                      6                                    \n7                                      7                                 7  \n8                                                                        8  \n9                                                                        9  \n10                                                                      10  \n11                                                                          ",
      "text/html": "<div>\n<style scoped>\n    .dataframe tbody tr th:only-of-type {\n        vertical-align: middle;\n    }\n\n    .dataframe tbody tr th {\n        vertical-align: top;\n    }\n\n    .dataframe thead th {\n        text-align: right;\n    }\n</style>\n<table border=\"1\" class=\"dataframe\">\n  <thead>\n    <tr style=\"text-align: right;\">\n      <th></th>\n      <th>word</th>\n      <th>Who was the first king of England</th>\n      <th>Who was the first ruler of England</th>\n      <th>Who was the last pharaoh of Egypt</th>\n    </tr>\n    <tr>\n      <th>index</th>\n      <th></th>\n      <th></th>\n      <th></th>\n      <th></th>\n    </tr>\n  </thead>\n  <tbody>\n    <tr>\n      <th>1</th>\n      <td>the</td>\n      <td>1</td>\n      <td>1</td>\n      <td>1</td>\n    </tr>\n    <tr>\n      <th>2</th>\n      <td>of</td>\n      <td>2</td>\n      <td>2</td>\n      <td>2</td>\n    </tr>\n    <tr>\n      <th>3</th>\n      <td>England</td>\n      <td>3</td>\n      <td>3</td>\n      <td></td>\n    </tr>\n    <tr>\n      <th>4</th>\n      <td>was</td>\n      <td>4</td>\n      <td>4</td>\n      <td>4</td>\n    </tr>\n    <tr>\n      <th>5</th>\n      <td>first</td>\n      <td>5</td>\n      <td>5</td>\n      <td></td>\n    </tr>\n    <tr>\n      <th>6</th>\n      <td>ruler</td>\n      <td></td>\n      <td>6</td>\n      <td></td>\n    </tr>\n    <tr>\n      <th>7</th>\n      <td>Who</td>\n      <td>7</td>\n      <td>7</td>\n      <td>7</td>\n    </tr>\n    <tr>\n      <th>8</th>\n      <td>Egypt</td>\n      <td></td>\n      <td></td>\n      <td>8</td>\n    </tr>\n    <tr>\n      <th>9</th>\n      <td>pharaoh</td>\n      <td></td>\n      <td></td>\n      <td>9</td>\n    </tr>\n    <tr>\n      <th>10</th>\n      <td>last</td>\n      <td></td>\n      <td></td>\n      <td>10</td>\n    </tr>\n    <tr>\n      <th>11</th>\n      <td>king</td>\n      <td>11</td>\n      <td></td>\n      <td></td>\n    </tr>\n  </tbody>\n</table>\n</div>"
     },
     "execution_count": 3,
     "metadata": {},
     "output_type": "execute_result"
    }
   ],
   "source": [
    "pd.read_csv('./static/permutation_2.csv', header=0, dtype=str, keep_default_na=False, index_col='index')"
   ]
  },
  {
   "cell_type": "markdown",
   "metadata": {},
   "source": [
    "Second part of the fingerprint is: *1 1 1*"
   ]
  },
  {
   "cell_type": "code",
   "execution_count": 4,
   "metadata": {},
   "outputs": [
    {
     "data": {
      "text/plain": "          word Who was the first king of England  \\\nindex                                              \n1        first                                 1   \n2         king                                 2   \n3        Egypt                                     \n4          was                                 4   \n5          Who                                 5   \n6           of                                 6   \n7      pharaoh                                     \n8         last                                     \n9      England                                 9   \n10      ruler                                      \n11         the                                11   \n\n      Who was the first ruler of England Who was the last pharaoh of Egypt  \nindex                                                                       \n1                                      1                                    \n2                                                                           \n3                                                                        3  \n4                                      4                                 4  \n5                                      5                                 5  \n6                                      6                                 6  \n7                                                                        7  \n8                                                                        8  \n9                                      9                                    \n10                                    10                                    \n11                                    11                                11  ",
      "text/html": "<div>\n<style scoped>\n    .dataframe tbody tr th:only-of-type {\n        vertical-align: middle;\n    }\n\n    .dataframe tbody tr th {\n        vertical-align: top;\n    }\n\n    .dataframe thead th {\n        text-align: right;\n    }\n</style>\n<table border=\"1\" class=\"dataframe\">\n  <thead>\n    <tr style=\"text-align: right;\">\n      <th></th>\n      <th>word</th>\n      <th>Who was the first king of England</th>\n      <th>Who was the first ruler of England</th>\n      <th>Who was the last pharaoh of Egypt</th>\n    </tr>\n    <tr>\n      <th>index</th>\n      <th></th>\n      <th></th>\n      <th></th>\n      <th></th>\n    </tr>\n  </thead>\n  <tbody>\n    <tr>\n      <th>1</th>\n      <td>first</td>\n      <td>1</td>\n      <td>1</td>\n      <td></td>\n    </tr>\n    <tr>\n      <th>2</th>\n      <td>king</td>\n      <td>2</td>\n      <td></td>\n      <td></td>\n    </tr>\n    <tr>\n      <th>3</th>\n      <td>Egypt</td>\n      <td></td>\n      <td></td>\n      <td>3</td>\n    </tr>\n    <tr>\n      <th>4</th>\n      <td>was</td>\n      <td>4</td>\n      <td>4</td>\n      <td>4</td>\n    </tr>\n    <tr>\n      <th>5</th>\n      <td>Who</td>\n      <td>5</td>\n      <td>5</td>\n      <td>5</td>\n    </tr>\n    <tr>\n      <th>6</th>\n      <td>of</td>\n      <td>6</td>\n      <td>6</td>\n      <td>6</td>\n    </tr>\n    <tr>\n      <th>7</th>\n      <td>pharaoh</td>\n      <td></td>\n      <td></td>\n      <td>7</td>\n    </tr>\n    <tr>\n      <th>8</th>\n      <td>last</td>\n      <td></td>\n      <td></td>\n      <td>8</td>\n    </tr>\n    <tr>\n      <th>9</th>\n      <td>England</td>\n      <td>9</td>\n      <td>9</td>\n      <td></td>\n    </tr>\n    <tr>\n      <th>10</th>\n      <td>ruler</td>\n      <td></td>\n      <td>10</td>\n      <td></td>\n    </tr>\n    <tr>\n      <th>11</th>\n      <td>the</td>\n      <td>11</td>\n      <td>11</td>\n      <td>11</td>\n    </tr>\n  </tbody>\n</table>\n</div>"
     },
     "execution_count": 4,
     "metadata": {},
     "output_type": "execute_result"
    }
   ],
   "source": [
    "pd.read_csv('./static/permutation_3.csv', header=0, dtype=str, keep_default_na=False, index_col='index')"
   ]
  },
  {
   "cell_type": "markdown",
   "metadata": {},
   "source": [
    "Third part of the fingerprint is:  *1 1 3*\n",
    "\n",
    "Then, repeat permuting and searching as many times as big we want our fingerprint. For the purpose of example my consists of 6 items. We’ve already had 3, so let’s create 3 more permutations:"
   ]
  },
  {
   "cell_type": "markdown",
   "metadata": {},
   "source": [
    "```python\n",
    "(\"ruler\", \"king\", \"England\", \"Who\", \"the\", \"pharaoh\", \"of\", \"first\", \"Egypt\", \"last\", \"was\")\n",
    "(\"king\", \"England\", \"ruler\", \"last\", \"pharaoh\", \"the\", \"Who\", \"Egypt\", \"first\", \"of\", \"was\")\n",
    "(\"the\", \"pharaoh\", \"Who\", \"ruler\", \"England\", \"Egypt\", \"king\", \"last\", \"was\", \"first\", \"of\")\n",
    "```\n",
    "producing following parts of the fingerprint:\n",
    "* *2 1 4*\n",
    "* *1 1 4*\n",
    "* *1 1 1*\n",
    "\n",
    "Completed MinHashes are:\n",
    "```sql\n",
    "MinHash(\"Who was the first king of England\")  = [2, 1, 1, 2, 1, 1]\n",
    "MinHash(\"Who was the first ruler of England\") = [2, 1, 1, 1, 1, 1]\n",
    "MinHash(\"Who was the last pharaoh of Egypt\")  = [1, 1, 3, 4, 4, 1]\n",
    "```"
   ]
  },
  {
   "cell_type": "markdown",
   "metadata": {},
   "source": [
    "Now we can check how similar are two MinHashes by calculating **their** *Jaccard Similarities*:\n",
    "```sql\n",
    "MinHashSimilarity(\"Who was the first king of England\", \"Who was the first ruler of England\") =\n",
    "J(\n",
    "  [2, 1, 1, 2, 1, 1],\n",
    "  [2, 1, 1, 1, 1, 1]\n",
    ") = 5/6 ≈ 0.83\n",
    "\n",
    "MinHashSimilarity(\"Who was the first king of England\", \"Who was the last pharaoh of Egypt\")  =\n",
    "J(\n",
    "  [2, 1, 1, 2, 1, 1],\n",
    "  [1, 1, 3, 4, 4, 1]\n",
    ") = 2/6 ≈ 0.33\n",
    "\n",
    "MinHashSimilarity(\"Who was the first ruler of England\", \"Who was the last pharaoh of Egypt\") =\n",
    "J(\n",
    "  [2, 1, 1, 1, 1, 1],\n",
    "  [1, 1, 3, 4, 4, 1]\n",
    ") 2/6 ≈ 0.33\n",
    "```\n",
    "\n",
    "which are close to *Jaccard Similarities* of the respective documents, and the more permutations we do, the closer the approximations get. How is that possible?"
   ]
  },
  {
   "cell_type": "markdown",
   "metadata": {},
   "source": [
    "## More permutations mean better approximations"
   ]
  },
  {
   "cell_type": "markdown",
   "metadata": {},
   "source": [
    "```python\n",
    "with legend:\n",
    "    A: 'word is present in both documents'\n",
    "    B: 'word is present in one of them'\n",
    "    C: 'word is in the dictionary, but in neither of the documents'\n",
    "```"
   ]
  },
  {
   "cell_type": "code",
   "execution_count": 5,
   "metadata": {},
   "outputs": [
    {
     "data": {
      "text/plain": "<pandas.io.formats.style.Styler at 0x10b7c3c10>",
      "text/html": "<style type=\"text/css\">\n</style>\n<table id=\"T_1f1d4\">\n  <thead>\n    <tr>\n      <th id=\"T_1f1d4_level0_col0\" class=\"col_heading level0 col0\" >word</th>\n      <th id=\"T_1f1d4_level0_col1\" class=\"col_heading level0 col1\" >Who was the first king of England</th>\n      <th id=\"T_1f1d4_level0_col2\" class=\"col_heading level0 col2\" >Who was the first ruler of England</th>\n    </tr>\n  </thead>\n  <tbody>\n    <tr>\n      <td id=\"T_1f1d4_row0_col0\" class=\"data row0 col0\" >first</td>\n      <td id=\"T_1f1d4_row0_col1\" class=\"data row0 col1\" >A</td>\n      <td id=\"T_1f1d4_row0_col2\" class=\"data row0 col2\" >A</td>\n    </tr>\n    <tr>\n      <td id=\"T_1f1d4_row1_col0\" class=\"data row1 col0\" >king</td>\n      <td id=\"T_1f1d4_row1_col1\" class=\"data row1 col1\" >B</td>\n      <td id=\"T_1f1d4_row1_col2\" class=\"data row1 col2\" >B</td>\n    </tr>\n    <tr>\n      <td id=\"T_1f1d4_row2_col0\" class=\"data row2 col0\" >Egypt</td>\n      <td id=\"T_1f1d4_row2_col1\" class=\"data row2 col1\" >C</td>\n      <td id=\"T_1f1d4_row2_col2\" class=\"data row2 col2\" >C</td>\n    </tr>\n    <tr>\n      <td id=\"T_1f1d4_row3_col0\" class=\"data row3 col0\" >was</td>\n      <td id=\"T_1f1d4_row3_col1\" class=\"data row3 col1\" >A</td>\n      <td id=\"T_1f1d4_row3_col2\" class=\"data row3 col2\" >A</td>\n    </tr>\n    <tr>\n      <td id=\"T_1f1d4_row4_col0\" class=\"data row4 col0\" >Who</td>\n      <td id=\"T_1f1d4_row4_col1\" class=\"data row4 col1\" >A</td>\n      <td id=\"T_1f1d4_row4_col2\" class=\"data row4 col2\" >A</td>\n    </tr>\n    <tr>\n      <td id=\"T_1f1d4_row5_col0\" class=\"data row5 col0\" >of</td>\n      <td id=\"T_1f1d4_row5_col1\" class=\"data row5 col1\" >A</td>\n      <td id=\"T_1f1d4_row5_col2\" class=\"data row5 col2\" >A</td>\n    </tr>\n    <tr>\n      <td id=\"T_1f1d4_row6_col0\" class=\"data row6 col0\" >pharaoh</td>\n      <td id=\"T_1f1d4_row6_col1\" class=\"data row6 col1\" >C</td>\n      <td id=\"T_1f1d4_row6_col2\" class=\"data row6 col2\" >C</td>\n    </tr>\n    <tr>\n      <td id=\"T_1f1d4_row7_col0\" class=\"data row7 col0\" >last</td>\n      <td id=\"T_1f1d4_row7_col1\" class=\"data row7 col1\" >C</td>\n      <td id=\"T_1f1d4_row7_col2\" class=\"data row7 col2\" >C</td>\n    </tr>\n    <tr>\n      <td id=\"T_1f1d4_row8_col0\" class=\"data row8 col0\" >England</td>\n      <td id=\"T_1f1d4_row8_col1\" class=\"data row8 col1\" >A</td>\n      <td id=\"T_1f1d4_row8_col2\" class=\"data row8 col2\" >A</td>\n    </tr>\n    <tr>\n      <td id=\"T_1f1d4_row9_col0\" class=\"data row9 col0\" >ruler </td>\n      <td id=\"T_1f1d4_row9_col1\" class=\"data row9 col1\" >B</td>\n      <td id=\"T_1f1d4_row9_col2\" class=\"data row9 col2\" >B</td>\n    </tr>\n    <tr>\n      <td id=\"T_1f1d4_row10_col0\" class=\"data row10 col0\" >the</td>\n      <td id=\"T_1f1d4_row10_col1\" class=\"data row10 col1\" >A</td>\n      <td id=\"T_1f1d4_row10_col2\" class=\"data row10 col2\" >A</td>\n    </tr>\n  </tbody>\n</table>\n"
     },
     "execution_count": 5,
     "metadata": {},
     "output_type": "execute_result"
    }
   ],
   "source": [
    "df = pd.read_csv('./static/permutation_abc.csv', header=0, dtype=str, keep_default_na=False, index_col='index')\n",
    "df.style.hide(axis='index')"
   ]
  },
  {
   "cell_type": "markdown",
   "metadata": {},
   "source": [
    "We can write the formula for the *Jaccard Similarity* as\n",
    "\n",
    "```\n",
    "J = a / (a + b)\n",
    "```\n",
    "where `a` is a number of rows of type `A` and `b` of type `B`\n",
    "\n",
    "Since we have random permutations, let’s calculate the probability that two documents will have an equal fingerprint component. We can skip type `C` rows since they do not interfere in any way with a component value calculation (If we consider only two documents). So what is the probability that we will pick type `A` row, from the set of `A` and `B` rows?\n",
    "\n",
    "```\n",
    "P = a / (a + b)\n",
    "```\n",
    "\n",
    "which is exactly the same as *Jaccard Similarity*! That explains why our approximations were close and why more permutations mean better approximations."
   ]
  },
  {
   "cell_type": "markdown",
   "metadata": {},
   "source": [
    "## Hash part of MinHash"
   ]
  },
  {
   "cell_type": "markdown",
   "metadata": {},
   "source": [
    "We now have an algorithm which could potentially perform better, but the more documents the bigger the dictionary, and thus the higher the cost of creating permutations, both in time and hardware. Instead of creating `n` permutations we can take a hash function ( `md5`, `sha256`, `crc32`, etc) use it on every word in a document and record a **minimal hash value**. It will be the first element of the fingerprint, then we will take another hash function, and so on until we have our `n` elements in the fingerprint.\n",
    "\n",
    "`Q`:  Why does it work?\n",
    "\n",
    "`A`:  Let’s consider what a permutation does — it basically maps each word from dictionary to a different number. The fact that mapped numbers are integers increased by one is not important to us.\n",
    "      With a certain simplification - this is what a hash function does as well - **it maps a string to a number**, so basically the same as the permutation above!\n",
    "\n",
    "Benefits of using hash functions:\n",
    "* No need to keep the whole dictionary as before\n",
    "* MinHash is easily calculated for new document/words\n",
    "* No need to scan the whole dictionary for each document and create a permutation of the whole dictionary\n",
    "\n",
    "In result, we are saving a lot of computational time.\n",
    "\n",
    "So while we can now compute a fingerprint and compare it easily, we still need to **compare every fingerprint with every other**"
   ]
  },
  {
   "cell_type": "markdown",
   "metadata": {},
   "source": [
    "## Banding"
   ]
  },
  {
   "cell_type": "markdown",
   "metadata": {},
   "source": [
    "Let’s look back at our MinHashes, and **group** (also **band**) them by three elements:\n",
    "\n",
    "```sql\n",
    "MinHash(\"Who was the first king of England\")  = [2, 1, 1, 2, 1, 1] => [211, 211]\n",
    "MinHash(\"Who was the first ruler of England\") = [2, 1, 1, 1, 1, 1] => [211, 111]\n",
    "MinHash(\"Who was the last pharaoh of Egypt\")  = [1, 1, 3, 4, 4, 1] => [113, 441]\n",
    "```\n",
    "\n",
    "We can see that our duplicates (two \"matching\" documents) have one band *211* in common, while unique have no common bands."
   ]
  },
  {
   "cell_type": "markdown",
   "metadata": {},
   "source": [
    "Let's compute the probability of at least one common band for duplicates:\n",
    "* We want two documents (D1 & D2) with 75% *Jaccard Similarity* to be hashed in the same bucket for at least 1 of 2 bands\n",
    "`Jaccard Similarity = P1 = 0.75`\n",
    "* Probability that **(D1 & D2) are identical in a particular band** = `P2 = P1 to number-of-elements-in-band power = 0.75³ = 0.421875`\n",
    "* Probability that **(D1 & D2) are different in all 2 bands** = `P3 = 1-P2 = 0.578125`\n",
    "* Probability that **(D1 & D2) are not similar in all 2 bands** = `P4 = P3 to number-of-bands power = P3² = 0.334228516`\n",
    "* Probability that **at least one band from (D1 & D2) will be common** = `P5 = 1 — P4 = 0.665771484`\n",
    "\n",
    "\n",
    "So general equation will look like this: `P5 = 1 — (1 — J^n)^b`\n",
    "\n",
    "Where:  \n",
    "  `J` — Jaccard Similarity  \n",
    "  `n` — number of elements in group  \n",
    "  `b` — number of bands  \n",
    "\n",
    "NOTE: In the scenario above we have ~33.4% chance of a `false negative` @ 75% similar documents."
   ]
  },
  {
   "cell_type": "markdown",
   "metadata": {},
   "source": [
    "We could also make `3` groups with `2` elements each:\n",
    " ```sql\n",
    "MinHash(\"Who was the first king of England\")  = [2, 1, 1, 2, 1, 1] => [21, 12, 11]\n",
    "MinHash(\"Who was the first ruler of England\") = [2, 1, 1, 1, 1, 1] => [21, 11, 11]\n",
    "MinHash(\"Who was the last pharaoh of Egypt\")  = [1, 1, 3, 4, 4, 1] => [11, 34, 41]\n",
    "```\n",
    "\n",
    "Here is the plot:\n",
    "![image info](./static/lsh-minhash-bucketing.png)\n"
   ]
  },
  {
   "cell_type": "markdown",
   "metadata": {},
   "source": [
    "Let’s analyze it:\n",
    "For the pair with `J = 0.5` and `b = 3`, there is only `0.25` probability that we would find it as a duplicate.\n",
    "However, with `b = 3` there is about `0.6` probability that we would mark it as a duplicate.\n",
    "\n",
    "It means that in practice:\n",
    "* More **false positives** for larger values of `b`\n",
    "* More **false negatives** for smaller values of `b`\n",
    "\n",
    "In other words - as almost everything in Data Science, LSH is sensitive to parameter selection."
   ]
  },
  {
   "cell_type": "markdown",
   "metadata": {},
   "source": [
    "Let's create association between single groups and the documents:\n",
    "\n",
    "```\n",
    "MinHash(\"Who was the first king of England\")  = [2, 1, 1, 2, 1, 1] => [211, 211]\n",
    "MinHash(\"Who was the first ruler of England\") = [2, 1, 1, 1, 1, 1] => [211, 111]\n",
    "MinHash(\"Who was the last pharaoh of Egypt\")  = [1, 1, 3, 4, 4, 1] => [113, 441]\n",
    "```\n",
    "↓\n",
    "```\n",
    "[\n",
    "211 => “Who was the first king of England”,\n",
    "211 => “Who was the first ruler of England”,\n",
    "113 => “Who was the last pharaoh of Egypt”\n",
    "]\n",
    "```\n",
    "And\n",
    "```\n",
    "[\n",
    "211 => “Who was the first king of England”,\n",
    "111 => “Who was the first ruler of England”,\n",
    "441 => “Who was the last pharaoh of Egypt”\n",
    "]\n",
    "```\n",
    "\n",
    "**Banding** allows us to replace O(n²) search with O(n) Hashtable lookups!"
   ]
  },
  {
   "cell_type": "markdown",
   "metadata": {},
   "source": [
    "![image info](./static/lsh-canonical-bucketing.png)"
   ]
  },
  {
   "cell_type": "markdown",
   "metadata": {},
   "source": [
    "## Tweaking"
   ]
  },
  {
   "cell_type": "markdown",
   "metadata": {},
   "source": [
    "Until this time, we learned that LSH takes 3 arguments:\n",
    "* `k` — number of elements in `MinHash`  \n",
    "    In our case, `k` was 6: for instance - [2, 1, 1, 2, 1, 1]\n",
    "* `n` — number of elements in band  \n",
    "    In our case, `n` was 3: for instance - [211, 211]\n",
    "* `b` — number of bands and `b*n` must equal `k`  \n",
    "    In our case, `b` was 2: for instance - [xxx, xxx]"
   ]
  },
  {
   "cell_type": "markdown",
   "metadata": {},
   "source": [
    "Our goal is to find duplicates that have `Jaccard Similarity >= 0.17` (as `1-0.83`) so our probability chart should look like this:\n",
    "\n",
    "![probability chart - single](./static/lsh-step-function-1.png)\n",
    "\n",
    "We can only approximate to this behaviour by manipulating 3 parameters:\n",
    "\n",
    "![probability chart - single](./static/lsh-step-function-multiple.png)\n",
    "\n",
    "As we can see `b = 100 & n = 2` or `b = 50 & n = 4` are the ones closest to reference.\n",
    "But how to get `200` hash functions?"
   ]
  },
  {
   "cell_type": "markdown",
   "metadata": {},
   "source": [
    "## Hashing functions family"
   ]
  },
  {
   "cell_type": "markdown",
   "metadata": {},
   "source": [
    "For an integer `x`:\n",
    "![compatible hashing function family](./static/random-hash-eq.png)\n",
    "Where the coefficients:\n",
    "* `a` and `b` are randomly chosen integers less than `max(x)`.\n",
    "* `c` is a prime number slightly bigger than `max(x)`."
   ]
  },
  {
   "cell_type": "markdown",
   "metadata": {},
   "source": [
    "Alternatively:\n",
    "* use `MurmurHash` with `200` different seeds"
   ]
  },
  {
   "cell_type": "markdown",
   "metadata": {},
   "source": [
    "## Shingling"
   ]
  },
  {
   "cell_type": "markdown",
   "metadata": {},
   "source": [
    "In practice, individual words and dictionaries are replaced with `shingles`, where a `shingle` can be:\n",
    "* Substrings of three-words, or five-words, allowing to retain more document structure\n",
    "* Each document is converted into a set of characters of length `k` (also known as `k-shingles` or `k-grams`). Whitespaces are considered a valid character, such that relocation of paragraphs affect only a small number of shingles.\n",
    "    For text processing the common `k` is between 8 and 40."
   ]
  },
  {
   "cell_type": "markdown",
   "metadata": {},
   "source": [
    "## Canonical workflow"
   ]
  },
  {
   "cell_type": "markdown",
   "metadata": {},
   "source": [
    "![canonical workflow from Stanford](./static/lsh-canonical-workflow.png)"
   ]
  },
  {
   "cell_type": "markdown",
   "metadata": {},
   "source": [
    "References:\n",
    "* https://medium.com/@hbrylkowski/locality-sensitive-hashing-explained-304eb39291e4\n",
    "* https://chrisjmccormick.wordpress.com/2015/06/12/minhash-tutorial-with-python-code/\n",
    "* https://github.com/chrisjmccormick/MinHash/blob/master/runMinHashExample.py\n",
    "* https://www.youtube.com/watch?v=e8dA0tscrCM\n",
    "* https://towardsdatascience.com/understanding-locality-sensitive-hashing-49f6d1f6134"
   ]
  },
  {
   "cell_type": "code",
   "execution_count": 5,
   "metadata": {},
   "outputs": [],
   "source": []
  }
 ],
 "metadata": {
  "kernelspec": {
   "display_name": "Python 3 (ipykernel)",
   "language": "python",
   "name": "python3"
  },
  "language_info": {
   "codemirror_mode": {
    "name": "ipython",
    "version": 3
   },
   "file_extension": ".py",
   "mimetype": "text/x-python",
   "name": "python",
   "nbconvert_exporter": "python",
   "pygments_lexer": "ipython3",
   "version": "3.10.5"
  }
 },
 "nbformat": 4,
 "nbformat_minor": 1
}
